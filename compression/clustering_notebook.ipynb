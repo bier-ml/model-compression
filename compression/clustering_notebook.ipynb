{
 "cells": [
  {
   "cell_type": "code",
   "execution_count": 3,
   "outputs": [],
   "source": [
    "import tensorflow as tf\n",
    "import tensorflow_model_optimization as tfmot\n",
    "\n",
    "from model_profiler import model_profiler\n"
   ],
   "metadata": {
    "collapsed": false,
    "ExecuteTime": {
     "end_time": "2023-09-24T15:55:16.913065Z",
     "start_time": "2023-09-24T15:55:14.476029Z"
    }
   },
   "id": "9ce1bcb37f357de7"
  },
  {
   "cell_type": "markdown",
   "source": [
    "# Load Dataset\n"
   ],
   "metadata": {
    "collapsed": false
   },
   "id": "6d8057a9bddc18cf"
  },
  {
   "cell_type": "code",
   "execution_count": 16,
   "outputs": [],
   "source": [
    "mnist = tf.keras.datasets.mnist\n",
    "(train_images, train_labels), (test_images, test_labels) = mnist.load_data()\n",
    "\n",
    "train_images = train_images / 255.0\n",
    "test_images  = test_images / 255.0\n"
   ],
   "metadata": {
    "collapsed": false,
    "ExecuteTime": {
     "end_time": "2023-09-24T15:58:41.357543Z",
     "start_time": "2023-09-24T15:58:41.077922Z"
    }
   },
   "id": "a320e42a7b319eee"
  },
  {
   "cell_type": "code",
   "execution_count": 17,
   "outputs": [
    {
     "name": "stdout",
     "output_type": "stream",
     "text": [
      "Model: \"sequential_3\"\n",
      "_________________________________________________________________\n",
      " Layer (type)                Output Shape              Param #   \n",
      "=================================================================\n",
      " reshape_3 (Reshape)         (None, 28, 28, 1)         0         \n",
      "                                                                 \n",
      " conv2d_3 (Conv2D)           (None, 26, 26, 12)        120       \n",
      "                                                                 \n",
      " max_pooling2d_3 (MaxPoolin  (None, 13, 13, 12)        0         \n",
      " g2D)                                                            \n",
      "                                                                 \n",
      " flatten_3 (Flatten)         (None, 2028)              0         \n",
      "                                                                 \n",
      " dense_3 (Dense)             (None, 10)                20290     \n",
      "                                                                 \n",
      "=================================================================\n",
      "Total params: 20410 (79.73 KB)\n",
      "Trainable params: 20410 (79.73 KB)\n",
      "Non-trainable params: 0 (0.00 Byte)\n",
      "_________________________________________________________________\n"
     ]
    }
   ],
   "source": [
    "original_model = tf.keras.Sequential([\n",
    "  tf.keras.layers.InputLayer(input_shape=(28, 28)),\n",
    "  tf.keras.layers.Reshape(target_shape=(28, 28, 1)),\n",
    "  tf.keras.layers.Conv2D(filters=12, kernel_size=(3, 3),\n",
    "                         activation=tf.nn.relu),\n",
    "  tf.keras.layers.MaxPooling2D(pool_size=(2, 2)),\n",
    "  tf.keras.layers.Flatten(),\n",
    "  tf.keras.layers.Dense(10)\n",
    "])\n",
    "\n",
    "# for layer in model.layers:\n",
    "#     if isinstance(layer, tf.keras.layers.Conv2D) or isinstance(layer, tf.keras.layers.Dense):\n",
    "#         layer.set_weights([tf.constant(w, dtype=tf.float32) for w in layer.get_weights()])\n",
    "\n",
    "original_model.compile(\n",
    "    optimizer='adam',\n",
    "    loss=tf.keras.losses.SparseCategoricalCrossentropy(from_logits=True),\n",
    "    metrics=['accuracy']\n",
    ")\n",
    "original_model.summary()\n"
   ],
   "metadata": {
    "collapsed": false,
    "ExecuteTime": {
     "end_time": "2023-09-24T15:58:43.246484Z",
     "start_time": "2023-09-24T15:58:43.219212Z"
    }
   },
   "id": "5b62f3d650d0d7a5"
  },
  {
   "cell_type": "code",
   "execution_count": 19,
   "outputs": [
    {
     "name": "stdout",
     "output_type": "stream",
     "text": [
      "| Model Profile                    | Value         | Unit    |\n",
      "|----------------------------------|---------------|---------|\n",
      "| Selected GPUs                    | None Detected | GPU IDs |\n",
      "| No. of FLOPs                     | 0.0           | BFLOPs  |\n",
      "| GPU Memory Requirement           | 0.6181        | GB      |\n",
      "| Model Parameters                 | 0.0204        | Million |\n",
      "| Memory Required by Model Weights | 0.0779        | MB      |\n"
     ]
    }
   ],
   "source": [
    "print(model_profiler(original_model, 12800))\n"
   ],
   "metadata": {
    "collapsed": false,
    "ExecuteTime": {
     "end_time": "2023-09-24T15:58:59.213242Z",
     "start_time": "2023-09-24T15:58:59.205938Z"
    }
   },
   "id": "7247cd636080d12e"
  },
  {
   "cell_type": "code",
   "execution_count": 21,
   "outputs": [
    {
     "name": "stdout",
     "output_type": "stream",
     "text": [
      "Epoch 1/3\n",
      "1688/1688 [==============================] - 4s 3ms/step - loss: 0.0726 - accuracy: 0.9785 - val_loss: 0.0640 - val_accuracy: 0.9830\n",
      "Epoch 2/3\n",
      "1688/1688 [==============================] - 4s 3ms/step - loss: 0.0626 - accuracy: 0.9811 - val_loss: 0.0653 - val_accuracy: 0.9818\n",
      "Epoch 3/3\n",
      "1688/1688 [==============================] - 4s 3ms/step - loss: 0.0550 - accuracy: 0.9834 - val_loss: 0.0645 - val_accuracy: 0.9827\n"
     ]
    }
   ],
   "source": [
    "original_model.fit(\n",
    "    train_images,\n",
    "    train_labels,\n",
    "    validation_split=0.1,\n",
    "    epochs=3\n",
    ");\n"
   ],
   "metadata": {
    "collapsed": false,
    "ExecuteTime": {
     "end_time": "2023-09-24T15:59:39.846184Z",
     "start_time": "2023-09-24T15:59:26.714944Z"
    }
   },
   "id": "c8ee95b204af8af6"
  },
  {
   "cell_type": "code",
   "execution_count": 22,
   "outputs": [
    {
     "name": "stdout",
     "output_type": "stream",
     "text": [
      "Original model test accuracy: 0.9805999994277954\n"
     ]
    }
   ],
   "source": [
    "_, baseline_model_accuracy = original_model.evaluate(\n",
    "    test_images, test_labels, verbose=0)\n",
    "\n",
    "print('Original model test accuracy:', baseline_model_accuracy)\n"
   ],
   "metadata": {
    "collapsed": false,
    "ExecuteTime": {
     "end_time": "2023-09-24T15:59:45.386180Z",
     "start_time": "2023-09-24T15:59:45.112240Z"
    }
   },
   "id": "dcf887b27951b057"
  },
  {
   "cell_type": "code",
   "execution_count": 23,
   "outputs": [],
   "source": [
    "cluster_weights = tfmot.clustering.keras.cluster_weights\n",
    "CentroidInitialization = tfmot.clustering.keras.CentroidInitialization\n",
    "\n",
    "clustering_params = {\n",
    "  'number_of_clusters': 8,\n",
    "  'cluster_centroids_init': CentroidInitialization.KMEANS_PLUS_PLUS\n",
    "}\n",
    "\n",
    "clustered_model = cluster_weights(original_model, **clustering_params)\n"
   ],
   "metadata": {
    "collapsed": false,
    "ExecuteTime": {
     "end_time": "2023-09-24T15:59:49.481415Z",
     "start_time": "2023-09-24T15:59:49.453640Z"
    }
   },
   "id": "3cb53e02a5a7aae5"
  },
  {
   "cell_type": "code",
   "execution_count": 24,
   "outputs": [],
   "source": [
    "clustered_model.compile(\n",
    "    optimizer='adam',\n",
    "    loss=tf.keras.losses.SparseCategoricalCrossentropy(from_logits=True),\n",
    "    metrics=['accuracy']\n",
    ")\n"
   ],
   "metadata": {
    "collapsed": false,
    "ExecuteTime": {
     "end_time": "2023-09-24T15:59:52.602832Z",
     "start_time": "2023-09-24T15:59:52.599313Z"
    }
   },
   "id": "afd1ea0ca7a770ad"
  },
  {
   "cell_type": "code",
   "execution_count": 25,
   "outputs": [
    {
     "name": "stdout",
     "output_type": "stream",
     "text": [
      "| Model Profile                    | Value         | Unit    |\n",
      "|----------------------------------|---------------|---------|\n",
      "| Selected GPUs                    | None Detected | GPU IDs |\n",
      "| No. of FLOPs                     | 0.0           | BFLOPs  |\n",
      "| GPU Memory Requirement           | 0.0024        | GB      |\n",
      "| Model Parameters                 | 0.0408        | Million |\n",
      "| Memory Required by Model Weights | 0.1557        | MB      |\n"
     ]
    }
   ],
   "source": [
    "print(model_profiler(clustered_model, 48))\n"
   ],
   "metadata": {
    "collapsed": false,
    "ExecuteTime": {
     "end_time": "2023-09-24T16:00:13.735444Z",
     "start_time": "2023-09-24T16:00:13.732400Z"
    }
   },
   "id": "f75503471a6f5c32"
  },
  {
   "cell_type": "code",
   "execution_count": 26,
   "outputs": [
    {
     "name": "stdout",
     "output_type": "stream",
     "text": [
      "Clustered test accuracy: 0.9553999900817871\n"
     ]
    }
   ],
   "source": [
    "_, clustered_model_accuracy = clustered_model.evaluate(\n",
    "    test_images, test_labels, verbose=0)\n",
    "\n",
    "print('Clustered test accuracy:', clustered_model_accuracy)\n"
   ],
   "metadata": {
    "collapsed": false,
    "ExecuteTime": {
     "end_time": "2023-09-24T16:00:28.795726Z",
     "start_time": "2023-09-24T16:00:28.245539Z"
    }
   },
   "id": "bef281584e36865c"
  },
  {
   "cell_type": "code",
   "execution_count": null,
   "outputs": [],
   "source": [],
   "metadata": {
    "collapsed": false
   },
   "id": "12ba7703572844aa"
  }
 ],
 "metadata": {
  "kernelspec": {
   "display_name": "Python 3",
   "language": "python",
   "name": "python3"
  },
  "language_info": {
   "codemirror_mode": {
    "name": "ipython",
    "version": 2
   },
   "file_extension": ".py",
   "mimetype": "text/x-python",
   "name": "python",
   "nbconvert_exporter": "python",
   "pygments_lexer": "ipython2",
   "version": "2.7.6"
  }
 },
 "nbformat": 4,
 "nbformat_minor": 5
}
